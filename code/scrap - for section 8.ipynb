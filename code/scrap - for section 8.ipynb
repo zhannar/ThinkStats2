{
 "cells": [
  {
   "cell_type": "markdown",
   "metadata": {},
   "source": [
    "*Exercise 2: Suppose you draw a sample with size n=10 from an exponential distribution with λ=2. Simulate this experiment 1000 times and plot the sampling distribution of the estimate L.*\n",
    "\n",
    "*Compute the standard error of the estimate and the 90% confidence interval.*\n",
    "\n",
    "*Repeat the experiment with a few different values of n and make a plot of standard error versus n.*"
   ]
  },
  {
   "cell_type": "code",
   "execution_count": 10,
   "metadata": {
    "collapsed": true
   },
   "outputs": [],
   "source": [
    "import numpy as np\n",
    "import random\n",
    "import thinkplot\n",
    "import thinkstats2"
   ]
  },
  {
   "cell_type": "code",
   "execution_count": 11,
   "metadata": {
    "collapsed": false
   },
   "outputs": [],
   "source": [
    "def Estimate(n, lambd, m):\n",
    "    # Part 1 - Generate the estimates of lambda\n",
    "    estimates = []\n",
    "    for _ in range(m):\n",
    "        xs = [random.expovariate(lambd) for i in range(n)]\n",
    "        lambd_estimate =1/np.mean(xs)\n",
    "        estimates.append(lambd_estimate)\n",
    "    \n",
    "    # Part 2 - Calculate the Standard Error (SE)\n",
    "    se = 20\n",
    "    return estimates, se\n",
    "\n",
    "estimates, se = Estimate(n = 10, lambd = 2, m = 1000)"
   ]
  },
  {
   "cell_type": "code",
   "execution_count": 12,
   "metadata": {
    "collapsed": true
   },
   "outputs": [],
   "source": [
    "pmf = thinkstats2.Pmf(estimates)\n",
    "thinkplot.Hist(pmf)\n",
    "thinkplot.Show()"
   ]
  },
  {
   "cell_type": "code",
   "execution_count": 8,
   "metadata": {
    "collapsed": false
   },
   "outputs": [],
   "source": []
  },
  {
   "cell_type": "code",
   "execution_count": 9,
   "metadata": {
    "collapsed": false
   },
   "outputs": [],
   "source": []
  },
  {
   "cell_type": "code",
   "execution_count": null,
   "metadata": {
    "collapsed": true
   },
   "outputs": [],
   "source": []
  }
 ],
 "metadata": {
  "kernelspec": {
   "display_name": "Python 2",
   "language": "python",
   "name": "python2"
  },
  "language_info": {
   "codemirror_mode": {
    "name": "ipython",
    "version": 2
   },
   "file_extension": ".py",
   "mimetype": "text/x-python",
   "name": "python",
   "nbconvert_exporter": "python",
   "pygments_lexer": "ipython2",
   "version": "2.7.11"
  }
 },
 "nbformat": 4,
 "nbformat_minor": 0
}
